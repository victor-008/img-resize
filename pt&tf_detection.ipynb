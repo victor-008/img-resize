{
 "cells": [
  {
   "cell_type": "code",
   "execution_count": null,
   "metadata": {},
   "outputs": [],
   "source": [
    "import cv2\n",
    "import tensorflow\n",
    "import numpy as np\n",
    "from ultralytics import YOLO"
   ]
  },
  {
   "cell_type": "code",
   "execution_count": null,
   "metadata": {},
   "outputs": [],
   "source": [
    "# Load the YOLOv8 model\n",
    "model = YOLO('V:/coding/dev/Python/Gantry/FYP/best.pt')\n",
    "\n",
    "# Function to perform detection on an image\n",
    "def detect_image(image_path, output_path):\n",
    "    image = cv2.imread(image_path)\n",
    "    if image is None:\n",
    "        raise FileNotFoundError(f\"Image not found at path: {image_path}\")\n",
    "\n",
    "    # Perform inference\n",
    "    results = model(image)\n",
    "\n",
    "    # Extract results\n",
    "    boxes = results[0].boxes.xyxy.cpu().numpy()  # Bounding boxes\n",
    "    scores = results[0].boxes.conf.cpu().numpy()  # Confidence scores\n",
    "    class_ids = results[0].boxes.cls.cpu().numpy().astype(int)  # Class IDs\n",
    "\n",
    "    # Draw the results on the image\n",
    "    for box, score, class_id in zip(boxes, scores, class_ids):\n",
    "        if score > 0.2:  # Threshold for displaying boxes\n",
    "            x1, y1, x2, y2 = map(int, box[:4])\n",
    "            label = f\"Class {class_id}: {score:.2f}\"\n",
    "            cv2.rectangle(image, (x1, y1), (x2, y2), (0, 255, 0), 2)\n",
    "            cv2.putText(image, label, (x1, y1 - 10), cv2.FONT_HERSHEY_SIMPLEX, 0.5, (0, 255, 0), 2)\n",
    "\n",
    "    # Save the output image\n",
    "    cv2.imwrite(output_path, image)\n",
    "    print(f\"Output image saved at: {output_path}\")\n",
    "\n"
   ]
  },
  {
   "cell_type": "code",
   "execution_count": null,
   "metadata": {},
   "outputs": [
    {
     "name": "stdout",
     "output_type": "stream",
     "text": [
      "\n",
      "0: 640x640 3 Healthys, 3 Black Rot Diseases, 129.0ms\n",
      "Speed: 4.0ms preprocess, 129.0ms inference, 1.0ms postprocess per image at shape (1, 3, 640, 640)\n",
      "Output image saved at: V:/coding/dev/Python/Gantry/FYP/output/20241006_172958(1)_detected.jpg\n"
     ]
    }
   ],
   "source": [
    "input_image_path = 'V:/coding/dev/Python/Gantry/FYP/raw/resized/20241006_172958(1).jpg'\n",
    "output_image_path = 'V:/coding/dev/Python/Gantry/FYP/output/20241006_172958(1)_detected.jpg'\n",
    "#output_image_path = './output/20241006_125620_detected.jpg'\n",
    "detect_image(input_image_path, output_image_path)"
   ]
  },
  {
   "cell_type": "code",
   "execution_count": null,
   "metadata": {},
   "outputs": [
    {
     "data": {
      "text/plain": [
       "True"
      ]
     },
     "execution_count": 3,
     "metadata": {},
     "output_type": "execute_result"
    }
   ],
   "source": [
    "# Load the TFLite model\n",
    "interpreter = tf.lite.Interpreter(model_path=\"V:/coding/dev/Python/Gantry/FYP/best_float32.tflite\")\n",
    "interpreter.allocate_tensors()\n",
    "\n",
    "#input and output details\n",
    "input_details = interpreter.get_input_details()\n",
    "output_details = interpreter.get_output_details()\n",
    "\n",
    "# Load and preprocess the image\n",
    "image_path = \"V:/coding/dev/Python/Gantry/FYP/resized/20241006_131544.jpg\"\n",
    "image = cv2.imread(image_path)\n",
    "input_shape = input_details[0]['shape']\n",
    "input_data = cv2.resize(image, (input_shape[1], input_shape[2]))\n",
    "input_data = np.expand_dims(input_data, axis=0).astype(np.float32) / 255.0\n",
    "\n",
    "# inference\n",
    "interpreter.set_tensor(input_details[0]['index'], input_data)\n",
    "interpreter.invoke()\n",
    "\n",
    "# Extract and process predictions\n",
    "detections = interpreter.get_tensor(output_details[0]['index'])\n",
    "\n",
    "# Process the predictions\n",
    "for detection in detections[0]:  # Iterate through detected objects\n",
    "    confidence = detection[4]\n",
    "    if confidence > 0.1:  # Confidence threshold\n",
    "        xmin, ymin, xmax, ymax = detection[0:4]\n",
    "        (left, right, top, bottom) = (int(xmin * image.shape[1]), int(xmax * image.shape[1]),\n",
    "                                      int(ymin * image.shape[0]), int(ymax * image.shape[0]))\n",
    "        cv2.rectangle(image, (left, top), (right, bottom), (0, 255, 0), 2)\n",
    "        class_id = int(detection[5])\n",
    "        label = f\"Class {class_id}: {confidence:.2f}\"\n",
    "        cv2.putText(image, label, (left, top - 10), cv2.FONT_HERSHEY_SIMPLEX, 0.5, (0, 255, 0), 2)\n",
    "\n",
    "# Display and save the image with detections\n",
    "cv2.imshow(\"Detected Objects\", image)\n",
    "cv2.waitKey(0)\n",
    "cv2.destroyAllWindows()\n",
    "cv2.imwrite(\"V:/coding/dev/Python/Gantry/FYP/output/16output_image.jpg\", image)"
   ]
  }
 ],
 "metadata": {
  "kernelspec": {
   "display_name": "fyp",
   "language": "python",
   "name": "python3"
  },
  "language_info": {
   "codemirror_mode": {
    "name": "ipython",
    "version": 3
   },
   "file_extension": ".py",
   "mimetype": "text/x-python",
   "name": "python",
   "nbconvert_exporter": "python",
   "pygments_lexer": "ipython3",
   "version": "3.12.7"
  }
 },
 "nbformat": 4,
 "nbformat_minor": 2
}
